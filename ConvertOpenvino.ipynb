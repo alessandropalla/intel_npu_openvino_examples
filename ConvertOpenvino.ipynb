{
 "cells": [
  {
   "cell_type": "markdown",
   "metadata": {},
   "source": [
    "## Convert a pytorch model to openvino"
   ]
  },
  {
   "cell_type": "code",
   "execution_count": 3,
   "metadata": {},
   "outputs": [
    {
     "data": {
      "text/plain": [
       "<Model: 'Model964'\n",
       "inputs[\n",
       "<ConstOutput: names[x] shape[1,3,224,224] type: f16>\n",
       "]\n",
       "outputs[\n",
       "<ConstOutput: names[x.45] shape[1,1000] type: f16>\n",
       "]>"
      ]
     },
     "execution_count": 3,
     "metadata": {},
     "output_type": "execute_result"
    }
   ],
   "source": [
    "from torchvision.models import resnet50, ResNet50_Weights\n",
    "import openvino as ov\n",
    "import torch\n",
    "\n",
    "\n",
    "# create model object\n",
    "pytorch_model = resnet50(weights=ResNet50_Weights.DEFAULT)\n",
    "# switch model from training to inference mode\n",
    "pytorch_model.eval()\n",
    "\n",
    "# Converting a model to OV format in float16\n",
    "ov_model = ov.convert_model(pytorch_model.to(torch.float16), input=(ov.Type.f16, (1, 3, 224, 224)))\n",
    "\n",
    "ov_model\n"
   ]
  },
  {
   "cell_type": "code",
   "execution_count": 4,
   "metadata": {},
   "outputs": [],
   "source": [
    "# Save model to disk (optional)\n",
    "ov.save_model(ov_model, 'artifacts\\\\resnet50_fp16.xml')"
   ]
  },
  {
   "cell_type": "code",
   "execution_count": 5,
   "metadata": {},
   "outputs": [
    {
     "data": {
      "text/plain": [
       "((1, 1000), dtype('float16'))"
      ]
     },
     "execution_count": 5,
     "metadata": {},
     "output_type": "execute_result"
    }
   ],
   "source": [
    "\n",
    "core = ov.Core()\n",
    "device = \"NPU\"\n",
    "\n",
    "compiled_model = core.compile_model(model=ov_model, device_name=device)\n",
    "output_layer = compiled_model.outputs[0]\n",
    "\n",
    "result = compiled_model((torch.randn(1, 3, 224, 224, dtype=torch.float16),))[output_layer]\n",
    "\n",
    "result.shape, result.dtype"
   ]
  },
  {
   "cell_type": "code",
   "execution_count": null,
   "metadata": {},
   "outputs": [],
   "source": []
  }
 ],
 "metadata": {
  "kernelspec": {
   "display_name": "Python 3 (ipykernel)",
   "language": "python",
   "name": "python3"
  },
  "language_info": {
   "codemirror_mode": {
    "name": "ipython",
    "version": 3
   },
   "file_extension": ".py",
   "mimetype": "text/x-python",
   "name": "python",
   "nbconvert_exporter": "python",
   "pygments_lexer": "ipython3",
   "version": "3.11.2"
  }
 },
 "nbformat": 4,
 "nbformat_minor": 4
}
