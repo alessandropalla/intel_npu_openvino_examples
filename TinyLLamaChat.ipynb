{
 "cells": [
  {
   "cell_type": "code",
   "execution_count": 1,
   "metadata": {},
   "outputs": [
    {
     "name": "stdout",
     "output_type": "stream",
     "text": [
      "Loading the model...\n",
      "Compiling the model for NPU...\n"
     ]
    }
   ],
   "source": [
    "from transformers import pipeline, TextStreamer, set_seed\n",
    "from intel_npu_acceleration_library.compiler import CompilerConfig\n",
    "import intel_npu_acceleration_library\n",
    "import torch\n",
    "import os\n",
    "\n",
    "model_id = \"TinyLlama/TinyLlama-1.1B-Chat-v1.0\"\n",
    "\n",
    "print(\"Loading the model...\")\n",
    "pipe = pipeline(\n",
    "    \"text-generation\", model=model_id, torch_dtype=torch.bfloat16, device_map=\"auto\"\n",
    ")\n",
    "print(\"Compiling the model for NPU...\")\n",
    "compiler_conf = CompilerConfig(dtype=intel_npu_acceleration_library.int4)\n",
    "pipe.model = intel_npu_acceleration_library.compile(pipe.model, compiler_conf)\n",
    "\n",
    "streamer = TextStreamer(pipe.tokenizer, skip_special_tokens=True, skip_prompt=True)\n",
    "\n",
    "set_seed(42)\n",
    "\n"
   ]
  },
  {
   "cell_type": "code",
   "execution_count": null,
   "metadata": {},
   "outputs": [
    {
     "name": "stdout",
     "output_type": "stream",
     "text": [
      "NPU Chatbot is ready! Please ask a question. Type 'exit' to quit.\n"
     ]
    },
    {
     "name": "stdout",
     "output_type": "stream",
     "text": [
      "User:  Is university of Pisa good?\n"
     ]
    },
    {
     "name": "stdout",
     "output_type": "stream",
     "text": [
      "Assistant: Yes, the University of Pisa is a highly reputable university with an impressive history dating back to the 14th century. The university has a long-standing reputation for academic excellence and innovation, and it is "
     ]
    }
   ],
   "source": [
    "\n",
    "messages = [\n",
    "    {\n",
    "        \"role\": \"system\",\n",
    "        \"content\": \"You are a friendly chatbot. You can ask me anything.\",\n",
    "    },\n",
    "]\n",
    "\n",
    "print(\"NPU Chatbot is ready! Please ask a question. Type 'exit' to quit.\")\n",
    "while True:\n",
    "    query = input(\"User: \")\n",
    "    if query.lower() == \"exit\":\n",
    "        break\n",
    "    messages.append({\"role\": \"user\", \"content\": query})\n",
    "\n",
    "    prompt = pipe.tokenizer.apply_chat_template(\n",
    "        messages, tokenize=False, add_generation_prompt=True\n",
    "    )\n",
    "    print(\"Assistant: \", end=\"\", flush=True)\n",
    "    out = pipe(\n",
    "        prompt,\n",
    "        max_new_tokens=512,\n",
    "        do_sample=True,\n",
    "        temperature=0.7,\n",
    "        top_k=50,\n",
    "        top_p=0.95,\n",
    "        streamer=streamer,\n",
    "    )\n",
    "\n",
    "    reply = out[0][\"generated_text\"].split(\"<|assistant|>\")[-1].strip()\n",
    "    messages.append({\"role\": \"assistant\", \"content\": reply})"
   ]
  },
  {
   "cell_type": "code",
   "execution_count": null,
   "metadata": {},
   "outputs": [],
   "source": []
  }
 ],
 "metadata": {
  "kernelspec": {
   "display_name": "venv",
   "language": "python",
   "name": "python3"
  },
  "language_info": {
   "codemirror_mode": {
    "name": "ipython",
    "version": 3
   },
   "file_extension": ".py",
   "mimetype": "text/x-python",
   "name": "python",
   "nbconvert_exporter": "python",
   "pygments_lexer": "ipython3",
   "version": "3.11.2"
  }
 },
 "nbformat": 4,
 "nbformat_minor": 4
}
